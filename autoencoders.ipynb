{
 "cells": [
  {
   "cell_type": "code",
   "execution_count": 19,
   "metadata": {},
   "outputs": [
    {
     "name": "stderr",
     "output_type": "stream",
     "text": [
      "/home/mahlet/Documents/Autoencoders/autoencoders.py:42: UserWarning: Output \"custom_variational_layer_5\" missing from loss dictionary. We assume this was done on purpose, and we will not be expecting any data to be passed to \"custom_variational_layer_5\" during training.\n",
      "  self.vae.compile(optimizer=rmsprop, loss=None)\n"
     ]
    }
   ],
   "source": [
    "import autoencoders\n",
    "import helpers\n",
    "# read in MNIST data\n",
    "x_train, y_train, x_test, y_test = helpers.prepare_data()\n",
    "# initialize and compile variational autoencoder\n",
    "vae = autoencoders.VariationalAutoencoder(batch_size=100, original_dim=784, latent_dim=2, intermediate_dim=256, epsilon_std=1.0)\n",
    "# train the model\n",
    "# vae.train(x_train, x_test, 10)\n",
    "# plot encoded scatterplot and manifold visualization\n",
    "# vae.report(x_test, y_test)"
   ]
  },
  {
   "cell_type": "code",
   "execution_count": null,
   "metadata": {},
   "outputs": [],
   "source": []
  }
 ],
 "metadata": {
  "kernelspec": {
   "display_name": "Python [conda env:anaconda3]",
   "language": "python",
   "name": "conda-env-anaconda3-py"
  },
  "language_info": {
   "codemirror_mode": {
    "name": "ipython",
    "version": 3
   },
   "file_extension": ".py",
   "mimetype": "text/x-python",
   "name": "python",
   "nbconvert_exporter": "python",
   "pygments_lexer": "ipython3",
   "version": "3.6.4"
  }
 },
 "nbformat": 4,
 "nbformat_minor": 2
}
